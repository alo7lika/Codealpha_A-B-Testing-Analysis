{
 "cells": [
  {
   "cell_type": "code",
   "execution_count": 1,
   "id": "f7f30bb3-7a8e-44de-be05-af22041ce8b0",
   "metadata": {},
   "outputs": [],
   "source": [
    "import numpy as np\n",
    "import pandas as pd\n",
    "from scipy.stats import ttest_ind"
   ]
  },
  {
   "cell_type": "code",
   "execution_count": 2,
   "id": "b5e052ed-c21e-454e-9045-9c770011e351",
   "metadata": {},
   "outputs": [],
   "source": [
    "# Generate synthetic data for A (control) and B (experimental) groups\n",
    "np.random.seed(42)"
   ]
  },
  {
   "cell_type": "code",
   "execution_count": 3,
   "id": "8ad98090-95d2-4c68-9c5e-39571e1c43a0",
   "metadata": {},
   "outputs": [],
   "source": [
    "# Control group (A): conversion rates\n",
    "A_group = np.random.binomial(n=1, p=0.1, size=100)  # Assume 10% conversion rate"
   ]
  },
  {
   "cell_type": "code",
   "execution_count": 4,
   "id": "3d966826-8e25-44d5-8a16-36bb24e4e733",
   "metadata": {},
   "outputs": [],
   "source": [
    "# Experimental group (B): conversion rates\n",
    "B_group = np.random.binomial(n=1, p=0.15, size=100)  # Assume 15% conversion rate"
   ]
  },
  {
   "cell_type": "code",
   "execution_count": 5,
   "id": "8fe0681e-7f08-4a97-8779-926eb253fb52",
   "metadata": {},
   "outputs": [],
   "source": [
    "# Calculate conversion rates\n",
    "conversion_rate_A = np.mean(A_group)\n",
    "conversion_rate_B = np.mean(B_group)"
   ]
  },
  {
   "cell_type": "code",
   "execution_count": 6,
   "id": "5f376db2-83ff-49fa-a763-0b74bcee956e",
   "metadata": {},
   "outputs": [],
   "source": [
    "# Perform independent t-test assuming equal variance\n",
    "t_stat, p_val = ttest_ind(A_group, B_group, equal_var=True)"
   ]
  },
  {
   "cell_type": "code",
   "execution_count": 7,
   "id": "751fc113-94d4-4830-97b0-5a8e62233bfb",
   "metadata": {},
   "outputs": [
    {
     "name": "stdout",
     "output_type": "stream",
     "text": [
      "Control Group (A): Conversion Rate = 9.00%\n"
     ]
    }
   ],
   "source": [
    "# Display results\n",
    "print(f\"Control Group (A): Conversion Rate = {conversion_rate_A:.2%}\")"
   ]
  },
  {
   "cell_type": "code",
   "execution_count": 8,
   "id": "3286dfe6-0183-4dcc-8b8c-3738f083bf99",
   "metadata": {},
   "outputs": [
    {
     "name": "stdout",
     "output_type": "stream",
     "text": [
      "Experimental Group (B): Conversion Rate = 18.00%\n"
     ]
    }
   ],
   "source": [
    "print(f\"Experimental Group (B): Conversion Rate = {conversion_rate_B:.2%}\")"
   ]
  },
  {
   "cell_type": "code",
   "execution_count": 9,
   "id": "11ffc329-ea8f-43f8-ae0b-fc3bc8323777",
   "metadata": {},
   "outputs": [
    {
     "name": "stdout",
     "output_type": "stream",
     "text": [
      "Independent t-test: t-statistic = -1.87, p-value = 0.0631\n"
     ]
    }
   ],
   "source": [
    "print(f\"Independent t-test: t-statistic = {t_stat:.2f}, p-value = {p_val:.4f}\")\n"
   ]
  },
  {
   "cell_type": "code",
   "execution_count": 10,
   "id": "0a2c8231-e7cf-458e-91f7-8d9bb9e7f9b3",
   "metadata": {},
   "outputs": [
    {
     "name": "stdout",
     "output_type": "stream",
     "text": [
      "There is no significant difference in conversion rates between A and B groups.\n",
      "We fail to reject the null hypothesis (H₀).\n"
     ]
    }
   ],
   "source": [
    "# Interpret the results\n",
    "alpha = 0.05\n",
    "if p_val < alpha:\n",
    "    print(\"The difference in conversion rates between A and B groups is statistically significant.\")\n",
    "    print(\"We reject the null hypothesis (H₀) in favor of the alternative hypothesis (H₁).\")\n",
    "else:\n",
    "    print(\"There is no significant difference in conversion rates between A and B groups.\")\n",
    "    print(\"We fail to reject the null hypothesis (H₀).\")"
   ]
  },
  {
   "cell_type": "code",
   "execution_count": null,
   "id": "b52d6837-1e3c-43af-8bcf-f07f9cac31ec",
   "metadata": {},
   "outputs": [],
   "source": []
  }
 ],
 "metadata": {
  "kernelspec": {
   "display_name": "Python 3 (ipykernel)",
   "language": "python",
   "name": "python3"
  },
  "language_info": {
   "codemirror_mode": {
    "name": "ipython",
    "version": 3
   },
   "file_extension": ".py",
   "mimetype": "text/x-python",
   "name": "python",
   "nbconvert_exporter": "python",
   "pygments_lexer": "ipython3",
   "version": "3.11.7"
  }
 },
 "nbformat": 4,
 "nbformat_minor": 5
}
